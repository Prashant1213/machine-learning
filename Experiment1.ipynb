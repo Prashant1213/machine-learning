{
  "nbformat": 4,
  "nbformat_minor": 0,
  "metadata": {
    "colab": {
      "provenance": [],
      "authorship_tag": "ABX9TyMvmkndXFJpFbVxhqggjo9Y",
      "include_colab_link": true
    },
    "kernelspec": {
      "name": "python3",
      "display_name": "Python 3"
    },
    "language_info": {
      "name": "python"
    }
  },
  "cells": [
    {
      "cell_type": "markdown",
      "metadata": {
        "id": "view-in-github",
        "colab_type": "text"
      },
      "source": [
        "<a href=\"https://colab.research.google.com/github/Prashant1213/machine-learning/blob/main/Experiment1.ipynb\" target=\"_parent\"><img src=\"https://colab.research.google.com/assets/colab-badge.svg\" alt=\"Open In Colab\"/></a>"
      ]
    },
    {
      "cell_type": "code",
      "execution_count": null,
      "metadata": {
        "colab": {
          "base_uri": "https://localhost:8080/"
        },
        "id": "kSVfdSQiZqAW",
        "outputId": "bb13d4c6-45d8-4bf4-e472-28700d9b6293"
      },
      "outputs": [
        {
          "output_type": "stream",
          "name": "stdout",
          "text": [
            "ENTER THE RADIUS4\n",
            "area of circle is 50.24\n"
          ]
        }
      ],
      "source": [
        "\n",
        "a=int(input(\"ENTER THE RADIUS\"))\n",
        "area=3.14*a*a\n",
        "print(\"area of circle is\",area)"
      ]
    }
  ]
}